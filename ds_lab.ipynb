{
 "cells": [
  {
   "cell_type": "code",
   "execution_count": 1,
   "metadata": {},
   "outputs": [],
   "source": [
    "import numpy as np # linear algebra\n",
    "import pandas as pd # data processing, CSV file I/O (e.g. pd.read_csv)\n",
    "import matplotlib.pyplot as plt\n",
    "import seaborn as sns"
   ]
  },
  {
   "attachments": {},
   "cell_type": "markdown",
   "metadata": {},
   "source": [
    "# 1. for any dataframe display range of columns"
   ]
  },
  {
   "cell_type": "code",
   "execution_count": 2,
   "metadata": {},
   "outputs": [
    {
     "name": "stdout",
     "output_type": "stream",
     "text": [
      "Columns range: A - C\n"
     ]
    }
   ],
   "source": [
    "# create a sample DataFrame\n",
    "df = pd.DataFrame({\n",
    "    'A': [1, 2, 3],\n",
    "    'B': [4, 5, 6],\n",
    "    'C': [7, 8, 9]\n",
    "})\n",
    "\n",
    "# display the range of columns\n",
    "print(f\"Columns range: {df.columns[0]} - {df.columns[-1]}\")"
   ]
  },
  {
   "attachments": {},
   "cell_type": "markdown",
   "metadata": {},
   "source": [
    "# 2. for any dataframe display range of rows"
   ]
  },
  {
   "cell_type": "code",
   "execution_count": 3,
   "metadata": {},
   "outputs": [
    {
     "name": "stdout",
     "output_type": "stream",
     "text": [
      "Rows range: 0 - 2\n"
     ]
    }
   ],
   "source": [
    "df = pd.DataFrame({\n",
    "    'A': [1, 2, 3],\n",
    "    'B': [4, 5, 6],\n",
    "    'C': [7, 8, 9]\n",
    "})\n",
    "\n",
    "# display the range of rows\n",
    "print(f\"Rows range: {df.index[0]} - {df.index[-1]}\")"
   ]
  },
  {
   "attachments": {},
   "cell_type": "markdown",
   "metadata": {},
   "source": [
    "# 3. for any dataframe display column 1 to column 4"
   ]
  },
  {
   "cell_type": "code",
   "execution_count": 4,
   "metadata": {},
   "outputs": [
    {
     "name": "stdout",
     "output_type": "stream",
     "text": [
      "   B  C   D   E\n",
      "0  4  7  10  13\n",
      "1  5  8  11  14\n",
      "2  6  9  12  15\n"
     ]
    }
   ],
   "source": [
    "df = pd.DataFrame({\n",
    "    'A': [1, 2, 3],\n",
    "    'B': [4, 5, 6],\n",
    "    'C': [7, 8, 9],\n",
    "    'D': [10, 11, 12],\n",
    "    'E': [13, 14, 15]\n",
    "})\n",
    "\n",
    "# display columns 1 to 4\n",
    "cols = df.columns[1:5]\n",
    "df_slice = df.iloc[:, 1:5]\n",
    "print(df_slice)\n",
    "\n",
    "# In this example, we first define cols as a range of column labels from index 1 to 4. \n",
    "# Then, we use the iloc method to slice the DataFrame based on the column index,\n",
    "# selecting all rows : and the columns corresponding to the column labels in cols. Finally, we print the resulting sliced DataFrame.\n",
    "\n",
    "\n",
    "\n",
    "\n"
   ]
  },
  {
   "attachments": {},
   "cell_type": "markdown",
   "metadata": {},
   "source": [
    "# 4. Display row 2 and 4"
   ]
  },
  {
   "cell_type": "code",
   "execution_count": 5,
   "metadata": {},
   "outputs": [
    {
     "name": "stdout",
     "output_type": "stream",
     "text": [
      "   A  B   C\n",
      "1  2  7  12\n",
      "3  4  9  14\n"
     ]
    }
   ],
   "source": [
    "df = pd.DataFrame({\n",
    "    'A': [1, 2, 3, 4, 5],\n",
    "    'B': [6, 7, 8, 9, 10],\n",
    "    'C': [11, 12, 13, 14, 15]\n",
    "})\n",
    "\n",
    "# display rows 2 and 4\n",
    "rows = [1, 3]\n",
    "df_slice = df.iloc[rows, :]\n",
    "print(df_slice)\n",
    "\n",
    "# In this example, we first define rows as a list of row indices 1 and 3 (since row indices start at 0). \n",
    "# Then, we use the iloc method to slice the DataFrame based on the row index, \n",
    "# selecting the rows corresponding to the indices in rows and all columns :. Finally, we print the resulting sliced DataFrame."
   ]
  },
  {
   "attachments": {},
   "cell_type": "markdown",
   "metadata": {},
   "source": [
    "# 5. for any dataframe display accessing one row and all columns"
   ]
  },
  {
   "cell_type": "code",
   "execution_count": 6,
   "metadata": {},
   "outputs": [
    {
     "name": "stdout",
     "output_type": "stream",
     "text": [
      "A    2\n",
      "B    5\n",
      "C    8\n",
      "Name: 1, dtype: int64\n"
     ]
    }
   ],
   "source": [
    "df = pd.DataFrame({\n",
    "    'A': [1, 2, 3],\n",
    "    'B': [4, 5, 6],\n",
    "    'C': [7, 8, 9]\n",
    "})\n",
    "\n",
    "# display row 1 and all columns\n",
    "row_index = 1\n",
    "df_slice = df.iloc[row_index, :]\n",
    "print(df_slice)\n",
    "\n",
    "# In this example, we first define row_index as the index of the row we want to select (which is 1 since row indices start at 0). \n",
    "# Then, we use the iloc method to slice the DataFrame based on the row index, selecting the row corresponding to row_index and all columns :.\n",
    "# Finally, we print the resulting sliced DataFrame, which is a Series with the column labels as the index."
   ]
  },
  {
   "attachments": {},
   "cell_type": "markdown",
   "metadata": {},
   "source": [
    "# 6. for any dataframe display accessing all rows and one column"
   ]
  },
  {
   "cell_type": "code",
   "execution_count": 7,
   "metadata": {},
   "outputs": [
    {
     "name": "stdout",
     "output_type": "stream",
     "text": [
      "0    4\n",
      "1    5\n",
      "2    6\n",
      "Name: B, dtype: int64\n"
     ]
    }
   ],
   "source": [
    "# create a sample DataFrame\n",
    "df = pd.DataFrame({\n",
    "    'A': [1, 2, 3],\n",
    "    'B': [4, 5, 6],\n",
    "    'C': [7, 8, 9]\n",
    "})\n",
    "\n",
    "# display all rows and column 'B'\n",
    "col_label = 'B'\n",
    "df_slice = df[col_label]\n",
    "print(df_slice)\n",
    "\n",
    "# In this example, we first define col_label as the label of the column we want to select.\n",
    "# Then, we use the square bracket indexing notation to select the column corresponding to col_label. \n",
    "# Finally, we print the resulting sliced DataFrame, which is a Series with the row indices as the index.\n",
    "# Note that we didn't specify a range of rows, so this selects all rows."
   ]
  },
  {
   "attachments": {},
   "cell_type": "markdown",
   "metadata": {},
   "source": [
    "# 7. For any dataframe select a row by label"
   ]
  },
  {
   "cell_type": "code",
   "execution_count": 8,
   "metadata": {},
   "outputs": [
    {
     "name": "stdout",
     "output_type": "stream",
     "text": [
      "A    2\n",
      "B    5\n",
      "C    8\n",
      "Name: Y, dtype: int64\n"
     ]
    }
   ],
   "source": [
    "# create a sample DataFrame\n",
    "df = pd.DataFrame({\n",
    "    'A': [1, 2, 3],\n",
    "    'B': [4, 5, 6],\n",
    "    'C': [7, 8, 9]\n",
    "}, index=['X', 'Y', 'Z'])\n",
    "\n",
    "# select row 'Y' using label\n",
    "row_label = 'Y'\n",
    "df_slice = df.loc[row_label, :]\n",
    "print(df_slice)\n",
    "\n",
    "# In this example, we first define row_label as the label of the row we want to select (which is 'Y' in this case). \n",
    "# Then, we use the loc method to select the row corresponding to row_label and all columns :. \n",
    "# Finally, we print the resulting sliced DataFrame, which is a Series with the column labels as the index.\n",
    "# Note that we used the : notation for columns to indicate that we want to select all columns."
   ]
  },
  {
   "attachments": {},
   "cell_type": "markdown",
   "metadata": {},
   "source": [
    "# 8. For any dataframe select a column by label"
   ]
  },
  {
   "cell_type": "code",
   "execution_count": 9,
   "metadata": {},
   "outputs": [
    {
     "name": "stdout",
     "output_type": "stream",
     "text": [
      "X    4\n",
      "Y    5\n",
      "Z    6\n",
      "Name: B, dtype: int64\n"
     ]
    }
   ],
   "source": [
    "df = pd.DataFrame({\n",
    "    'A': [1, 2, 3],\n",
    "    'B': [4, 5, 6],\n",
    "    'C': [7, 8, 9]\n",
    "}, index=['X', 'Y', 'Z'])\n",
    "\n",
    "# select column 'B' using label\n",
    "col_label = 'B'\n",
    "df_slice = df[col_label]\n",
    "print(df_slice)\n",
    "\n",
    "# In this example, we first define col_label as the label of the column we want to select (which is 'B' in this case).\n",
    "# Then, we use the square bracket indexing notation to select the column corresponding to col_label.\n",
    "# Finally, we print the resulting sliced DataFrame, which is a Series with the row indices as the index. \n",
    "# Note that we didn't specify a range of rows, so this selects all rows."
   ]
  },
  {
   "attachments": {},
   "cell_type": "markdown",
   "metadata": {},
   "source": [
    "# 9. For any dataframe select select a range of rows with the help of label"
   ]
  },
  {
   "cell_type": "code",
   "execution_count": 12,
   "metadata": {},
   "outputs": [
    {
     "name": "stdout",
     "output_type": "stream",
     "text": [
      "   A  B   C\n",
      "b  2  7  12\n",
      "c  3  8  13\n",
      "d  4  9  14\n"
     ]
    }
   ],
   "source": [
    "# create a sample DataFrame\n",
    "df = pd.DataFrame({\n",
    "    'A': [1, 2, 3, 4, 5],\n",
    "    'B': [6, 7, 8, 9, 10],\n",
    "    'C': [11, 12, 13, 14, 15]\n",
    "}, index=['a', 'b', 'c', 'd', 'e'])\n",
    "\n",
    "# select rows 'b' through 'd' using labels\n",
    "start_row = 'b'\n",
    "end_row = 'd'\n",
    "df_slice = df.loc[start_row:end_row, :]\n",
    "print(df_slice)\n",
    "\n",
    "# In this example, we first define start_row and end_row as the labels of the starting and ending rows we want to select (which are 'b' and 'd' in this case). \n",
    "# Then, we use the loc method to select rows between start_row and end_row inclusive, and all columns :.\n",
    "# Finally, we print the resulting sliced DataFrame, which includes only the rows between 'b' and 'd'.\n"
   ]
  },
  {
   "attachments": {},
   "cell_type": "markdown",
   "metadata": {},
   "source": [
    "# 10. For any dataframe select select a range of columns with the help of label "
   ]
  },
  {
   "cell_type": "code",
   "execution_count": 11,
   "metadata": {},
   "outputs": [
    {
     "name": "stdout",
     "output_type": "stream",
     "text": [
      "   B  C   D\n",
      "0  4  7  10\n",
      "1  5  8  11\n",
      "2  6  9  12\n"
     ]
    }
   ],
   "source": [
    "# create a sample DataFrame\n",
    "df = pd.DataFrame({\n",
    "    'A': [1, 2, 3],\n",
    "    'B': [4, 5, 6],\n",
    "    'C': [7, 8, 9],\n",
    "    'D': [10, 11, 12],\n",
    "    'E': [13, 14, 15]\n",
    "})\n",
    "\n",
    "# select columns 'B' through 'D' using labels\n",
    "start_col = 'B'\n",
    "end_col = 'D'\n",
    "df_slice = df.loc[:, start_col:end_col]\n",
    "print(df_slice)\n",
    "\n",
    "# In this example, we first define start_col and end_col as the labels of the starting and ending columns we want to select (which are 'B' and 'D' in this case). \n",
    "# Then, we use the square bracket indexing notation and the loc method to select all rows : and columns between start_col and end_col inclusive. \n",
    "# Finally, we print the resulting sliced DataFrame, which includes only the columns between 'B' and 'D'."
   ]
  },
  {
   "attachments": {},
   "cell_type": "markdown",
   "metadata": {},
   "source": [
    "# 11. For any dataframe select a row by index location"
   ]
  },
  {
   "cell_type": "code",
   "execution_count": 13,
   "metadata": {},
   "outputs": [
    {
     "name": "stdout",
     "output_type": "stream",
     "text": [
      "A    2\n",
      "B    5\n",
      "C    8\n",
      "Name: 1, dtype: int64\n"
     ]
    }
   ],
   "source": [
    "# create a sample DataFrame\n",
    "df = pd.DataFrame({\n",
    "    'A': [1, 2, 3],\n",
    "    'B': [4, 5, 6],\n",
    "    'C': [7, 8, 9]\n",
    "})\n",
    "\n",
    "# select row at index location 1 using iloc\n",
    "row_index = 1\n",
    "df_slice = df.iloc[row_index, :]\n",
    "print(df_slice)\n",
    "\n",
    "# In this example, we first define row_index as the index location of the row we want to select (which is 1 in this case, corresponding to the second row). \n",
    "# Then, we use the iloc method to select the row at the specified index location, and all columns :. \n",
    "# Finally, we print the resulting sliced DataFrame, which is a Series with the column names as the index."
   ]
  },
  {
   "attachments": {},
   "cell_type": "markdown",
   "metadata": {},
   "source": [
    "# 12. For any dataframe select a range of rows by index location"
   ]
  },
  {
   "cell_type": "code",
   "execution_count": 14,
   "metadata": {},
   "outputs": [
    {
     "name": "stdout",
     "output_type": "stream",
     "text": [
      "   A  B   C\n",
      "1  2  7  12\n",
      "2  3  8  13\n",
      "3  4  9  14\n"
     ]
    }
   ],
   "source": [
    "# create a sample DataFrame\n",
    "df = pd.DataFrame({\n",
    "    'A': [1, 2, 3, 4, 5],\n",
    "    'B': [6, 7, 8, 9, 10],\n",
    "    'C': [11, 12, 13, 14, 15]\n",
    "})\n",
    "\n",
    "# select rows 1 through 3 using iloc\n",
    "start_index = 1\n",
    "end_index = 3\n",
    "df_slice = df.iloc[start_index:end_index+1, :]\n",
    "print(df_slice)\n",
    "\n",
    "# In this example, we first define start_index and end_index as the index locations of the starting and ending rows we want to select (which are 1 and 3 in this case). \n",
    "# Note that we add 1 to end_index to make sure it's inclusive of the last row we want to select. \n",
    "# Then, we use the iloc method to select rows between start_index and end_index inclusive, and all columns :. \n",
    "# Finally, we print the resulting sliced DataFrame, which includes only the rows between index locations 1 and 3."
   ]
  },
  {
   "attachments": {},
   "cell_type": "markdown",
   "metadata": {},
   "source": [
    "# 13. For any dataframe select a slice of row by index location"
   ]
  },
  {
   "cell_type": "code",
   "execution_count": 15,
   "metadata": {},
   "outputs": [
    {
     "name": "stdout",
     "output_type": "stream",
     "text": [
      "   A   B   C\n",
      "0  1   6  11\n",
      "2  3   8  13\n",
      "4  5  10  15\n"
     ]
    }
   ],
   "source": [
    "# create a sample DataFrame\n",
    "df = pd.DataFrame({\n",
    "    'A': [1, 2, 3, 4, 5],\n",
    "    'B': [6, 7, 8, 9, 10],\n",
    "    'C': [11, 12, 13, 14, 15]\n",
    "})\n",
    "\n",
    "# select every other row using iloc\n",
    "df_slice = df.iloc[::2, :]\n",
    "print(df_slice)\n",
    "\n",
    "# In this example, we use the iloc method to select every other row in the DataFrame, and all columns :. \n",
    "# The ::2 notation tells Pandas to select every other row, starting from the first row. \n",
    "# Finally, we print the resulting sliced DataFrame, which includes every other row in the original DataFrame."
   ]
  },
  {
   "attachments": {},
   "cell_type": "markdown",
   "metadata": {},
   "source": [
    "# 14. For any dataframe select a column by index location"
   ]
  },
  {
   "cell_type": "code",
   "execution_count": 16,
   "metadata": {},
   "outputs": [
    {
     "name": "stdout",
     "output_type": "stream",
     "text": [
      "0    4\n",
      "1    5\n",
      "2    6\n",
      "Name: B, dtype: int64\n"
     ]
    }
   ],
   "source": [
    "# create a sample DataFrame\n",
    "df = pd.DataFrame({\n",
    "    'A': [1, 2, 3],\n",
    "    'B': [4, 5, 6],\n",
    "    'C': [7, 8, 9]\n",
    "})\n",
    "\n",
    "# select column at index location 1 using iloc\n",
    "col_index = 1\n",
    "df_slice = df.iloc[:, col_index]\n",
    "print(df_slice)\n",
    "\n",
    "# In this example, we first define col_index as the index location of the column we want to select (which is 1 in this case, corresponding to the second column). \n",
    "# Then, we use the iloc method to select the column at the specified index location, and all rows :. \n",
    "# Finally, we print the resulting sliced DataFrame, which is a Series with the row indices as the index."
   ]
  },
  {
   "attachments": {},
   "cell_type": "markdown",
   "metadata": {},
   "source": [
    "# 15. For any dataframe select a range of columns by index location"
   ]
  },
  {
   "cell_type": "code",
   "execution_count": 17,
   "metadata": {},
   "outputs": [
    {
     "name": "stdout",
     "output_type": "stream",
     "text": [
      "   B  C   D\n",
      "0  4  7  10\n",
      "1  5  8  11\n",
      "2  6  9  12\n"
     ]
    }
   ],
   "source": [
    "# create a sample DataFrame\n",
    "df = pd.DataFrame({\n",
    "    'A': [1, 2, 3],\n",
    "    'B': [4, 5, 6],\n",
    "    'C': [7, 8, 9],\n",
    "    'D': [10, 11, 12]\n",
    "})\n",
    "\n",
    "# select columns at index locations 1 through 3 using iloc\n",
    "start_index = 1\n",
    "end_index = 3\n",
    "df_slice = df.iloc[:, start_index:end_index+1]\n",
    "print(df_slice)\n",
    "\n",
    "# In this example, we first define start_index and end_index as the index locations of the starting and ending columns we want to select (which are 1 and 3 in this case).\n",
    "# Note that we add 1 to end_index to make sure it's inclusive of the last column we want to select. \n",
    "# Then, we use the iloc method to select all rows : and the columns between start_index and end_index inclusive.\n",
    "# Finally, we print the resulting sliced DataFrame, which includes only the columns between index locations 1 and 3."
   ]
  },
  {
   "attachments": {},
   "cell_type": "markdown",
   "metadata": {},
   "source": [
    "# 16. For any dataframe select a slice of range of columns by index location"
   ]
  },
  {
   "cell_type": "code",
   "execution_count": 18,
   "metadata": {},
   "outputs": [
    {
     "name": "stdout",
     "output_type": "stream",
     "text": [
      "   B  C   D\n",
      "0  4  7  10\n",
      "1  5  8  11\n",
      "2  6  9  12\n"
     ]
    }
   ],
   "source": [
    "# create a sample DataFrame\n",
    "df = pd.DataFrame({\n",
    "    'A': [1, 2, 3],\n",
    "    'B': [4, 5, 6],\n",
    "    'C': [7, 8, 9],\n",
    "    'D': [10, 11, 12],\n",
    "    'E': [13, 14, 15]\n",
    "})\n",
    "\n",
    "# select columns 1 through 3 using iloc\n",
    "df_slice = df.iloc[:, 1:4]\n",
    "print(df_slice)\n",
    "\n",
    "# In this example, we use the iloc method to select all rows : and the columns between index locations 1 and 3 inclusive.\n",
    "# Note that we use a slice object [1:4] to select columns 1, 2, and 3, since the slice is exclusive of the last element. \n",
    "# Finally, we print the resulting sliced DataFrame, which includes only columns B, C, and D."
   ]
  },
  {
   "attachments": {},
   "cell_type": "markdown",
   "metadata": {},
   "source": [
    "# 17. For any dataframe select a slice of rows and  columns by index location"
   ]
  },
  {
   "cell_type": "code",
   "execution_count": 19,
   "metadata": {},
   "outputs": [
    {
     "name": "stdout",
     "output_type": "stream",
     "text": [
      "    C   D   E\n",
      "1  12  17  22\n",
      "2  13  18  23\n",
      "3  14  19  24\n"
     ]
    }
   ],
   "source": [
    "# create a sample DataFrame\n",
    "df = pd.DataFrame({\n",
    "    'A': [1, 2, 3, 4, 5],\n",
    "    'B': [6, 7, 8, 9, 10],\n",
    "    'C': [11, 12, 13, 14, 15],\n",
    "    'D': [16, 17, 18, 19, 20],\n",
    "    'E': [21, 22, 23, 24, 25]\n",
    "})\n",
    "\n",
    "# select rows 1 through 3 and columns 2 through 4 using iloc\n",
    "df_slice = df.iloc[1:4, 2:5]\n",
    "print(df_slice)\n",
    "\n",
    "# In this example, we use the iloc method to select rows 1 through 3 and columns 2 through 4 inclusive.\n",
    "# Note that we use the range notation 1:4 to select rows 1, 2, and 3, since the slice is exclusive of the last element. \n",
    "# We also use the range notation 2:5 to select columns C, D, and E. \n",
    "# Finally, we print the resulting sliced DataFrame, which includes only the specified rows and columns."
   ]
  },
  {
   "attachments": {},
   "cell_type": "markdown",
   "metadata": {},
   "source": [
    "# 18. For any dataframe rename the columns of the dataframe"
   ]
  },
  {
   "cell_type": "code",
   "execution_count": 20,
   "metadata": {},
   "outputs": [
    {
     "name": "stdout",
     "output_type": "stream",
     "text": [
      "  full_name  years_old    residence\n",
      "0      John         25     New York\n",
      "1     Alice         30  Los Angeles\n",
      "2       Bob         35      Chicago\n"
     ]
    }
   ],
   "source": [
    "# create a sample DataFrame\n",
    "df = pd.DataFrame({\n",
    "    'name': ['John', 'Alice', 'Bob'],\n",
    "    'age': [25, 30, 35],\n",
    "    'city': ['New York', 'Los Angeles', 'Chicago']\n",
    "})\n",
    "\n",
    "# rename the columns using rename\n",
    "df_renamed = df.rename(columns={'name': 'full_name', 'age': 'years_old', 'city': 'residence'})\n",
    "print(df_renamed)\n",
    "\n",
    "# In this example, we use the rename method to map the old column names 'name', 'age', and 'city' to the new column \n",
    "# names 'full_name', 'years_old', and 'residence', respectively. \n",
    "# We then assign the resulting DataFrame to a new variable df_renamed, and print it to verify that the column names have been successfully renamed."
   ]
  },
  {
   "attachments": {},
   "cell_type": "markdown",
   "metadata": {},
   "source": [
    "# 19. For any dataframe Display all unique categories of all columns in a dataframe"
   ]
  },
  {
   "cell_type": "code",
   "execution_count": 21,
   "metadata": {},
   "outputs": [
    {
     "name": "stdout",
     "output_type": "stream",
     "text": [
      "Unique categories in name: ['John' 'Alice' 'Bob']\n",
      "Unique categories in age: [25 30 35]\n",
      "Unique categories in city: ['New York' 'Los Angeles' 'Chicago']\n",
      "Unique categories in gender: ['M' 'F']\n"
     ]
    }
   ],
   "source": [
    "# create a sample DataFrame\n",
    "df = pd.DataFrame({\n",
    "    'name': ['John', 'Alice', 'Bob', 'Alice'],\n",
    "    'age': [25, 30, 35, 25],\n",
    "    'city': ['New York', 'Los Angeles', 'Chicago', 'Chicago'],\n",
    "    'gender': ['M', 'F', 'M', 'F']\n",
    "})\n",
    "\n",
    "# display all unique categories of all columns\n",
    "for col in df.columns:\n",
    "    print(f\"Unique categories in {col}: {df[col].unique()}\")\n",
    "    \n",
    "# In this example, we use a for loop to iterate through each column of the DataFrame df. \n",
    "# For each column, we print the column name followed by the unique values of that column obtained using the unique method.\n",
    "# Note that we use f-strings to format the output string with the column name and unique categories."
   ]
  },
  {
   "attachments": {},
   "cell_type": "markdown",
   "metadata": {},
   "source": [
    "# 20. For any dataframe find the unique categories in each columns in a dataframe"
   ]
  },
  {
   "cell_type": "code",
   "execution_count": 22,
   "metadata": {},
   "outputs": [
    {
     "name": "stdout",
     "output_type": "stream",
     "text": [
      "Unique categories in name:\n",
      " - John\n",
      " - Alice\n",
      " - Bob\n",
      "Unique categories in age:\n",
      " - 25\n",
      " - 30\n",
      " - 35\n",
      "Unique categories in city:\n",
      " - New York\n",
      " - Los Angeles\n",
      " - Chicago\n",
      "Unique categories in gender:\n",
      " - M\n",
      " - F\n"
     ]
    }
   ],
   "source": [
    "# create a sample DataFrame\n",
    "# create a sample DataFrame\n",
    "df = pd.DataFrame({\n",
    "    'name': ['John', 'Alice', 'Bob', 'Alice'],\n",
    "    'age': [25, 30, 35, 25],\n",
    "    'city': ['New York', 'Los Angeles', 'Chicago', 'Chicago'],\n",
    "    'gender': ['M', 'F', 'M', 'F']\n",
    "})\n",
    "\n",
    "# find unique categories in each column\n",
    "for col in df.columns:\n",
    "    unique_categories = df[col].unique()\n",
    "    print(f\"Unique categories in {col}:\")\n",
    "    for category in unique_categories:\n",
    "        print(f\" - {category}\")\n",
    "        \n",
    "# In this example, we use a for loop to iterate through each column of the DataFrame df. \n",
    "# For each column, we obtain the unique values of that column using the unique method and store them in a variable unique_categories. \n",
    "# We then print the column name followed by a list of the unique categories obtained from unique_categories. \n",
    "# Note that we use f-strings to format the output string with the column name and unique categories."
   ]
  },
  {
   "attachments": {},
   "cell_type": "markdown",
   "metadata": {},
   "source": [
    "# 21. For any dataframe find the count of unique number of categories in each columns in a dataframe"
   ]
  },
  {
   "cell_type": "code",
   "execution_count": 23,
   "metadata": {},
   "outputs": [
    {
     "name": "stdout",
     "output_type": "stream",
     "text": [
      "Number of unique categories in name: 3\n",
      "Number of unique categories in age: 3\n",
      "Number of unique categories in city: 3\n",
      "Number of unique categories in gender: 2\n"
     ]
    }
   ],
   "source": [
    "# create a sample DataFrame\n",
    "df = pd.DataFrame({\n",
    "    'name': ['John', 'Alice', 'Bob', 'Alice'],\n",
    "    'age': [25, 30, 35, 25],\n",
    "    'city': ['New York', 'Los Angeles', 'Chicago', 'Chicago'],\n",
    "    'gender': ['M', 'F', 'M', 'F']\n",
    "})\n",
    "\n",
    "# find count of unique categories in each column\n",
    "for col in df.columns:\n",
    "    unique_count = df[col].nunique()\n",
    "    print(f\"Number of unique categories in {col}: {unique_count}\")\n",
    "    \n",
    "# In this example, we use a for loop to iterate through each column of the DataFrame df. \n",
    "# For each column, we count the number of unique values of that column using the nunique method and store the count in a variable unique_count. \n",
    "# We then print the column name followed by the count obtained from unique_count. \n",
    "# Note that we use f-strings to format the output string with the column name and count of unique categories."
   ]
  },
  {
   "attachments": {},
   "cell_type": "markdown",
   "metadata": {},
   "source": [
    " # 22 a. For any dataframe draw a bar graph using matplotlib"
   ]
  },
  {
   "cell_type": "code",
   "execution_count": 24,
   "metadata": {},
   "outputs": [
    {
     "data": {
      "image/png": "[encoded data removed]",
      "text/plain": [
       "<Figure size 432x288 with 1 Axes>"
      ]
     },
     "metadata": {
      "needs_background": "light"
     },
     "output_type": "display_data"
    }
   ],
   "source": [
    "# create a sample DataFrame\n",
    "data = {'name': ['John', 'Alice', 'Bob', 'Alice'],\n",
    "        'age': [25, 30, 35, 25],\n",
    "        'city': ['New York', 'Los Angeles', 'Chicago', 'Chicago'],\n",
    "        'gender': ['M', 'F', 'M', 'F']}\n",
    "df = pd.DataFrame(data)\n",
    "\n",
    "# create a bar graph of the age column\n",
    "df['age'].plot(kind='bar')\n",
    "\n",
    "# add a title and labels to the graph\n",
    "plt.title('Age Distribution')\n",
    "plt.xlabel('Index')\n",
    "plt.ylabel('Age')\n",
    "\n",
    "# display the graph\n",
    "plt.show()\n",
    "\n",
    "# This will output a bar graph of the age column of the DataFrame df.\n",
    "\n",
    "# In this example, we use the plot method of the DataFrame df with kind='bar' to create a bar graph of the age column. \n",
    "# We then use the title, xlabel, and ylabel methods of Matplotlib to add a title and labels to the graph. \n",
    "# Finally, we use the show method of Matplotlib to display the graph. Note that we import Matplotlib as plt for brevity."
   ]
  },
  {
   "attachments": {},
   "cell_type": "markdown",
   "metadata": {},
   "source": [
    "# 22 b. For any dataframe draw a bar graph for any number of columns using matplotlib"
   ]
  },
  {
   "cell_type": "code",
   "execution_count": 26,
   "metadata": {},
   "outputs": [
    {
     "data": {
      "image/png": "[encoded data removed]",
      "text/plain": [
       "<Figure size 432x288 with 1 Axes>"
      ]
     },
     "metadata": {
      "needs_background": "light"
     },
     "output_type": "display_data"
    }
   ],
   "source": [
    "# create a sample DataFrame\n",
    "data = {'name': ['John', 'Alice', 'Bob', 'Alice'],\n",
    "        'age': [25, 30, 35, 25],\n",
    "        'city': ['New York', 'Los Angeles', 'Chicago', 'Chicago'],\n",
    "        'gender': ['M', 'F', 'M', 'F']}\n",
    "df = pd.DataFrame(data)\n",
    "\n",
    "# create a bar graph of the age and name columns\n",
    "df[['name', 'age']].plot(kind='bar')\n",
    "\n",
    "# add a title and labels to the graph\n",
    "plt.title('Name and Age Distribution')\n",
    "plt.xlabel('Index')\n",
    "plt.ylabel('Value')\n",
    "\n",
    "# display the graph\n",
    "plt.show()\n",
    "# This will output a bar graph of the name and age columns of the DataFrame df.\n",
    "\n",
    "# In this example, we use the plot method of the DataFrame df with kind='bar' and specify the name and age columns using a list to create a bar graph of these columns. We then use the title, xlabel, and ylabel methods of Matplotlib to add a title and labels to the graph. Finally, we use the show method of Matplotlib to display the graph. Note that we import Matplotlib as plt for brevity.\n",
    "\n",
    "\n",
    "\n",
    "\n",
    "\n",
    "\n"
   ]
  },
  {
   "attachments": {},
   "cell_type": "markdown",
   "metadata": {},
   "source": [
    "# 22 c. For any dataframe draw a histogram using matplotlib"
   ]
  },
  {
   "cell_type": "code",
   "execution_count": 27,
   "metadata": {},
   "outputs": [
    {
     "data": {
      "image/png": "[encoded data removed]",
      "text/plain": [
       "<Figure size 432x288 with 1 Axes>"
      ]
     },
     "metadata": {
      "needs_background": "light"
     },
     "output_type": "display_data"
    }
   ],
   "source": [
    "# create a sample DataFrame\n",
    "data = {'name': ['John', 'Alice', 'Bob', 'Alice'],\n",
    "        'age': [25, 30, 35, 25],\n",
    "        'city': ['New York', 'Los Angeles', 'Chicago', 'Chicago'],\n",
    "        'gender': ['M', 'F', 'M', 'F']}\n",
    "df = pd.DataFrame(data)\n",
    "\n",
    "# create a histogram of the age column\n",
    "plt.hist(df['age'], bins=10)\n",
    "\n",
    "# add a title and labels to the graph\n",
    "plt.title('Age Distribution')\n",
    "plt.xlabel('Age')\n",
    "plt.ylabel('Frequency')\n",
    "\n",
    "# display the graph\n",
    "plt.show()\n",
    "\n",
    "# This will output a histogram of the age column of the DataFrame df.\n",
    "\n",
    "# In this example, we use the hist function of Matplotlib with the age column data of the DataFrame df and specify the number of bins using the bins parameter.\n",
    "# We then use the title, xlabel, and ylabel methods of Matplotlib to add a title and labels to the graph. \n",
    "# Finally, we use the show method of Matplotlib to display the graph.\n",
    "# Note that we import Matplotlib as plt for brevity."
   ]
  },
  {
   "attachments": {},
   "cell_type": "markdown",
   "metadata": {},
   "source": [
    "# 22 d. For any dataframe draw a histogram using matplotlib"
   ]
  },
  {
   "cell_type": "code",
   "execution_count": 28,
   "metadata": {},
   "outputs": [
    {
     "data": {
      "image/png": "[encoded data removed]",
      "text/plain": [
       "<Figure size 720x288 with 3 Axes>"
      ]
     },
     "metadata": {
      "needs_background": "light"
     },
     "output_type": "display_data"
    }
   ],
   "source": [
    "\n",
    "\n",
    "# create a sample DataFrame\n",
    "data = {'name': ['John', 'Alice', 'Bob', 'Alice'],\n",
    "        'age': [25, 30, 35, 25],\n",
    "        'income': [50000, 75000, 90000, 60000],\n",
    "        'weight': [70, 65, 80, 75]}\n",
    "df = pd.DataFrame(data)\n",
    "\n",
    "# create histograms of the age, income, and weight columns\n",
    "fig, axs = plt.subplots(1, 3, figsize=(10, 4))\n",
    "axs[0].hist(df['age'], bins=10)\n",
    "axs[0].set_title('Age Distribution')\n",
    "axs[0].set_xlabel('Age')\n",
    "axs[0].set_ylabel('Frequency')\n",
    "axs[1].hist(df['income'], bins=10)\n",
    "axs[1].set_title('Income Distribution')\n",
    "axs[1].set_xlabel('Income')\n",
    "axs[1].set_ylabel('Frequency')\n",
    "axs[2].hist(df['weight'], bins=10)\n",
    "axs[2].set_title('Weight Distribution')\n",
    "axs[2].set_xlabel('Weight')\n",
    "axs[2].set_ylabel('Frequency')\n",
    "\n",
    "# adjust the layout of the subplots\n",
    "plt.tight_layout()\n",
    "\n",
    "# display the graph\n",
    "plt.show()\n",
    "\n",
    "# This will output histograms of the age, income, and weight columns of the DataFrame df.\n",
    "\n",
    "# In this example, we use the hist function of Matplotlib with the age, income, and weight column data of the DataFrame df and specify the number of bins using the bins parameter.\n",
    "# We then use the title, xlabel, and ylabel methods of Matplotlib to add titles and labels to the graphs.\n",
    "# Finally, we use the subplots function of Matplotlib to create a grid of subplots, and use the tight_layout method to adjust the layout of the subplots. \n",
    "# Note that we import Matplotlib as plt for brevity."
   ]
  },
  {
   "attachments": {},
   "cell_type": "markdown",
   "metadata": {},
   "source": [
    "# 22 e. For any dataframe draw a scatter using matplotlib"
   ]
  },
  {
   "cell_type": "code",
   "execution_count": 29,
   "metadata": {},
   "outputs": [
    {
     "data": {
      "image/png": "[encoded data removed]",
      "text/plain": [
       "<Figure size 432x288 with 1 Axes>"
      ]
     },
     "metadata": {
      "needs_background": "light"
     },
     "output_type": "display_data"
    }
   ],
   "source": [
    "# create a sample DataFrame\n",
    "data = {'x': [1, 2, 3, 4, 5],\n",
    "        'y': [5, 4, 3, 2, 1]}\n",
    "df = pd.DataFrame(data)\n",
    "\n",
    "# create a scatter plot of the x and y columns\n",
    "plt.scatter(df['x'], df['y'])\n",
    "plt.title('Scatter Plot')\n",
    "plt.xlabel('X')\n",
    "plt.ylabel('Y')\n",
    "\n",
    "# display the graph\n",
    "plt.show()\n",
    "\n",
    "# This will output a scatter plot of the x and y columns of the DataFrame df.\n",
    "\n",
    "# In this example, we use the scatter function of Matplotlib with the x and y column data of the DataFrame df. \n",
    "# We then use the title, xlabel, and ylabel methods of Matplotlib to add titles and labels to the graph. \n",
    "# Finally, we use the show method of Matplotlib to display the graph. Note that we import Matplotlib as plt for brevity."
   ]
  },
  {
   "attachments": {},
   "cell_type": "markdown",
   "metadata": {},
   "source": [
    "# 22 f. For any dataframe draw a scatter for all the columns using matplotlib"
   ]
  },
  {
   "cell_type": "code",
   "execution_count": 30,
   "metadata": {},
   "outputs": [
    {
     "data": {
      "image/png": "[encoded data removed]",
      "text/plain": [
       "<Figure size 432x288 with 1 Axes>"
      ]
     },
     "metadata": {
      "needs_background": "light"
     },
     "output_type": "display_data"
    },
    {
     "data": {
      "image/png": "[encoded data removed]",
      "text/plain": [
       "<Figure size 432x288 with 1 Axes>"
      ]
     },
     "metadata": {
      "needs_background": "light"
     },
     "output_type": "display_data"
    },
    {
     "data": {
      "image/png": "[encoded data removed]",
      "text/plain": [
       "<Figure size 432x288 with 1 Axes>"
      ]
     },
     "metadata": {
      "needs_background": "light"
     },
     "output_type": "display_data"
    },
    {
     "data": {
      "image/png": "[encoded data removed]",
      "text/plain": [
       "<Figure size 432x288 with 1 Axes>"
      ]
     },
     "metadata": {
      "needs_background": "light"
     },
     "output_type": "display_data"
    },
    {
     "data": {
      "image/png": "[encoded data removed]",
      "text/plain": [
       "<Figure size 432x288 with 1 Axes>"
      ]
     },
     "metadata": {
      "needs_background": "light"
     },
     "output_type": "display_data"
    },
    {
     "data": {
      "image/png": "[encoded data removed]",
      "text/plain": [
       "<Figure size 432x288 with 1 Axes>"
      ]
     },
     "metadata": {
      "needs_background": "light"
     },
     "output_type": "display_data"
    }
   ],
   "source": [
    "# create a sample DataFrame\n",
    "data = {'x1': [1, 2, 3, 4, 5],\n",
    "        'x2': [5, 4, 3, 2, 1],\n",
    "        'y1': [2, 4, 6, 8, 10],\n",
    "        'y2': [10, 8, 6, 4, 2]}\n",
    "df = pd.DataFrame(data)\n",
    "\n",
    "# create a scatter plot for all columns\n",
    "num_cols = len(df.columns)\n",
    "for i in range(num_cols):\n",
    "    for j in range(i+1, num_cols):\n",
    "        plt.scatter(df.iloc[:, i], df.iloc[:, j])\n",
    "        plt.xlabel(df.columns[i])\n",
    "        plt.ylabel(df.columns[j])\n",
    "        plt.show()\n",
    "\n",
    "# This will output scatter plots for all the columns of the DataFrame df.\n",
    "# In this example, we use two nested loops to iterate over every combination of columns in the DataFrame df.\n",
    "# For each pair of columns, we create a scatter plot with the scatter function of Matplotlib and label the axes with the column names using the xlabel and ylabel methods of Matplotlib. \n",
    "# Finally, we use the show method of Matplotlib to display the graph. \n",
    "# Note that we use the iloc accessor to select the columns of the DataFrame based on their index."
   ]
  },
  {
   "attachments": {},
   "cell_type": "markdown",
   "metadata": {},
   "source": [
    "# 22 g. For any dataframe draw a pairplot using matplotlib"
   ]
  },
  {
   "cell_type": "code",
   "execution_count": 31,
   "metadata": {},
   "outputs": [
    {
     "data": {
      "text/plain": [
       "<seaborn.axisgrid.PairGrid at 0x15240cd3af0>"
      ]
     },
     "execution_count": 31,
     "metadata": {},
     "output_type": "execute_result"
    },
    {
     "data": {
      "image/png": "[encoded data removed]",
      "text/plain": [
       "<Figure size 720x720 with 20 Axes>"
      ]
     },
     "metadata": {
      "needs_background": "light"
     },
     "output_type": "display_data"
    }
   ],
   "source": [
    "# create a sample DataFrame\n",
    "data = {'x1': [1, 2, 3, 4, 5],\n",
    "        'x2': [5, 4, 3, 2, 1],\n",
    "        'y1': [2, 4, 6, 8, 10],\n",
    "        'y2': [10, 8, 6, 4, 2]}\n",
    "df = pd.DataFrame(data)\n",
    "\n",
    "# create a pair plot for all columns\n",
    "sns.pairplot(df)\n",
    "\n"
   ]
  },
  {
   "attachments": {},
   "cell_type": "markdown",
   "metadata": {},
   "source": [
    "# 22 h. For any dataframe draw a relation using matplotlib"
   ]
  },
  {
   "cell_type": "code",
   "execution_count": 33,
   "metadata": {},
   "outputs": [
    {
     "data": {
      "image/png": "[encoded data removed]",
      "text/plain": [
       "<Figure size 432x288 with 1 Axes>"
      ]
     },
     "metadata": {
      "needs_background": "light"
     },
     "output_type": "display_data"
    }
   ],
   "source": [
    "data = {'x': [1, 2, 3, 4, 5],\n",
    "        'y1': [2, 4, 6, 8, 10],\n",
    "        'y2': [10, 8, 6, 4, 2]}\n",
    "df = pd.DataFrame(data)\n",
    "\n",
    "# create a line plot for y1 and y2 against x\n",
    "df.plot(x='x', y=['y1', 'y2'], kind='line')\n",
    "\n",
    "# display the plot\n",
    "plt.show()\n",
    "\n",
    "# This will output a line plot for the columns y1 and y2 against x.\n",
    "# In this example, we use the plot function of Pandas to create the plot. \n",
    "# The function takes the DataFrame as its input and uses the x and y parameters to specify the variables to plot. \n",
    "# The kind parameter is used to specify the type of plot to create, which in this case is a line plot. \n",
    "# Note that the resulting plot will be created with Matplotlib, since Pandas uses Matplotlib as its backend for plotting."
   ]
  },
  {
   "attachments": {},
   "cell_type": "markdown",
   "metadata": {},
   "source": [
    "# 22 i. For any dataframe draw a boxplot using matplotlib"
   ]
  },
  {
   "cell_type": "code",
   "execution_count": 34,
   "metadata": {},
   "outputs": [
    {
     "data": {
      "image/png": "[encoded data removed]",
      "text/plain": [
       "<Figure size 432x288 with 1 Axes>"
      ]
     },
     "metadata": {
      "needs_background": "light"
     },
     "output_type": "display_data"
    }
   ],
   "source": [
    "# create a sample DataFrame\n",
    "data = {'A': [1, 2, 3, 4, 5],\n",
    "        'B': [5, 6, 7, 8, 9],\n",
    "        'C': [2, 3, 2, 3, 2],\n",
    "        'D': [10, 8, 12, 6, 9]}\n",
    "df = pd.DataFrame(data)\n",
    "\n",
    "# create a boxplot for all columns\n",
    "df.boxplot()\n",
    "\n",
    "# display the plot\n",
    "plt.show()\n",
    "\n",
    "# This will output a boxplot for all the columns in the DataFrame.\n",
    "# In this example, we use the boxplot function of Matplotlib to create the plot. \n",
    "# The function takes the DataFrame as its input and creates a boxplot for each column in the DataFrame. \n",
    "# The resulting plot will be created with Matplotlib. Note that you can also use the boxplot function of Pandas, which is a wrapper around the Matplotlib function and provides some additional options.\n",
    "# For example, you can use the by parameter to create boxplots grouped by a specific column."
   ]
  },
  {
   "attachments": {},
   "cell_type": "markdown",
   "metadata": {},
   "source": [
    "# 22 j. For any dataframe draw a correlation matrix using matplotlib"
   ]
  },
  {
   "cell_type": "code",
   "execution_count": 35,
   "metadata": {},
   "outputs": [
    {
     "data": {
      "image/png": "[encoded data removed]",
      "text/plain": [
       "<Figure size 432x288 with 2 Axes>"
      ]
     },
     "metadata": {
      "needs_background": "light"
     },
     "output_type": "display_data"
    }
   ],
   "source": [
    "\n",
    "\n",
    "# create a sample DataFrame\n",
    "data = {'A': [1, 2, 3, 4, 5],\n",
    "        'B': [5, 6, 7, 8, 9],\n",
    "        'C': [2, 3, 2, 3, 2],\n",
    "        'D': [10, 8, 12, 6, 9]}\n",
    "df = pd.DataFrame(data)\n",
    "\n",
    "# create a correlation matrix\n",
    "corr_matrix = df.corr()\n",
    "\n",
    "# create a heatmap of the correlation matrix\n",
    "fig, ax = plt.subplots()\n",
    "im = ax.imshow(corr_matrix)\n",
    "\n",
    "# add a colorbar\n",
    "cbar = ax.figure.colorbar(im, ax=ax)\n",
    "\n",
    "# set the tick labels and title\n",
    "ax.set_xticks(np.arange(len(corr_matrix.columns)))\n",
    "ax.set_yticks(np.arange(len(corr_matrix.columns)))\n",
    "ax.set_xticklabels(corr_matrix.columns)\n",
    "ax.set_yticklabels(corr_matrix.columns)\n",
    "ax.set_title(\"Correlation Matrix\")\n",
    "\n",
    "# rotate the tick labels and set the title position\n",
    "plt.setp(ax.get_xticklabels(), rotation=45, ha=\"right\",\n",
    "         rotation_mode=\"anchor\")\n",
    "plt.title('Correlation Matrix', fontsize=14, y=1.01)\n",
    "\n",
    "# show the plot\n",
    "plt.show()\n",
    "\n",
    "# This will output a heatmap of the correlation matrix for all the columns in the DataFrame. \n",
    "# In this example, we use the corr function of Pandas to calculate the correlation matrix. \n",
    "# Then, we use the imshow function of Matplotlib to create a heatmap of the correlation matrix. \n",
    "# We add a colorbar to the plot and set the tick labels and title of the plot. \n",
    "# Finally, we rotate the tick labels and set the title position. \n",
    "# The resulting plot will be created with Matplotlib.\n"
   ]
  },
  {
   "attachments": {},
   "cell_type": "markdown",
   "metadata": {},
   "source": [
    "# 23 a. For any dataframe draw a bar graph for any one column using seaborn"
   ]
  },
  {
   "cell_type": "code",
   "execution_count": 36,
   "metadata": {},
   "outputs": [
    {
     "data": {
      "image/png": "[encoded data removed]",
      "text/plain": [
       "<Figure size 432x288 with 1 Axes>"
      ]
     },
     "metadata": {
      "needs_background": "light"
     },
     "output_type": "display_data"
    }
   ],
   "source": [
    "# create a sample DataFrame\n",
    "data = {'A': ['apple', 'banana', 'banana', 'orange', 'apple', 'orange'],\n",
    "        'B': [5, 6, 7, 8, 9, 10]}\n",
    "df = pd.DataFrame(data)\n",
    "\n",
    "# draw a countplot for column A using Seaborn\n",
    "sns.countplot(x='A', data=df)\n",
    "\n",
    "# show the plot\n",
    "plt.show()\n",
    "\n",
    "# This will output a bar graph for the A column of the DataFrame using Seaborn. \n",
    "# In this example, we use the countplot function of Seaborn to create the bar graph. \n",
    "# We pass the x parameter to specify the column to be plotted and the data parameter to specify the DataFrame.\n",
    "# Finally, we use plt.show() to display the plot created by Seaborn."
   ]
  },
  {
   "attachments": {},
   "cell_type": "markdown",
   "metadata": {},
   "source": [
    "# 23 b. For any dataframe draw a histogram for any three column using seaborn"
   ]
  },
  {
   "cell_type": "code",
   "execution_count": 37,
   "metadata": {},
   "outputs": [
    {
     "name": "stderr",
     "output_type": "stream",
     "text": [
      "c:\\Python310\\lib\\site-packages\\seaborn\\distributions.py:2619: FutureWarning: `distplot` is a deprecated function and will be removed in a future version. Please adapt your code to use either `displot` (a figure-level function with similar flexibility) or `histplot` (an axes-level function for histograms).\n",
      "  warnings.warn(msg, FutureWarning)\n",
      "c:\\Python310\\lib\\site-packages\\seaborn\\distributions.py:2619: FutureWarning: `distplot` is a deprecated function and will be removed in a future version. Please adapt your code to use either `displot` (a figure-level function with similar flexibility) or `histplot` (an axes-level function for histograms).\n",
      "  warnings.warn(msg, FutureWarning)\n",
      "c:\\Python310\\lib\\site-packages\\seaborn\\distributions.py:2619: FutureWarning: `distplot` is a deprecated function and will be removed in a future version. Please adapt your code to use either `displot` (a figure-level function with similar flexibility) or `histplot` (an axes-level function for histograms).\n",
      "  warnings.warn(msg, FutureWarning)\n"
     ]
    },
    {
     "data": {
      "image/png": "[encoded data removed]",
      "text/plain": [
       "<Figure size 432x288 with 1 Axes>"
      ]
     },
     "metadata": {
      "needs_background": "light"
     },
     "output_type": "display_data"
    }
   ],
   "source": [
    "# create a sample DataFrame\n",
    "data = {'A': [5, 6, 7, 8, 9, 10],\n",
    "        'B': [4, 6, 8, 10, 12, 14],\n",
    "        'C': [1, 2, 3, 4, 5, 6]}\n",
    "df = pd.DataFrame(data)\n",
    "\n",
    "# draw histograms for columns A, B, and C using Seaborn\n",
    "sns.distplot(df['A'], label='A')\n",
    "sns.distplot(df['B'], label='B')\n",
    "sns.distplot(df['C'], label='C')\n",
    "\n",
    "# add a legend and labels to the plot\n",
    "plt.legend()\n",
    "plt.xlabel('Value')\n",
    "plt.ylabel('Frequency')\n",
    "\n",
    "# show the plot\n",
    "plt.show()\n",
    "\n",
    "# This will output a histogram for columns A, B, and C of the DataFrame using Seaborn. \n",
    "# In this example, we use the distplot function of Seaborn to create the histograms. \n",
    "# We pass the column to be plotted to the distplot function and use the label parameter to specify the name of the column.\n",
    "# Finally, we use plt.legend(), plt.xlabel(), and plt.ylabel() to add a legend and labels to the plot created by Seaborn, and use plt.show() to display the plot."
   ]
  },
  {
   "attachments": {},
   "cell_type": "markdown",
   "metadata": {},
   "source": [
    "# 23 c. For any dataframe draw a scatter plot using seaborn"
   ]
  },
  {
   "cell_type": "code",
   "execution_count": 38,
   "metadata": {},
   "outputs": [
    {
     "data": {
      "image/png": "[encoded data removed]",
      "text/plain": [
       "<Figure size 432x288 with 1 Axes>"
      ]
     },
     "metadata": {
      "needs_background": "light"
     },
     "output_type": "display_data"
    }
   ],
   "source": [
    "# create a sample DataFrame\n",
    "data = {'A': [5, 6, 7, 8, 9, 10],\n",
    "        'B': [4, 6, 8, 10, 12, 14],\n",
    "        'C': [1, 2, 3, 4, 5, 6]}\n",
    "df = pd.DataFrame(data)\n",
    "\n",
    "# draw a scatter plot for columns A and B using Seaborn\n",
    "sns.scatterplot(x='A', y='B', data=df)\n",
    "\n",
    "# add labels to the plot\n",
    "plt.xlabel('A')\n",
    "plt.ylabel('B')\n",
    "\n",
    "# show the plot\n",
    "plt.show()\n",
    "\n",
    "# This will output a scatter plot for columns A and B of the DataFrame using Seaborn. \n",
    "# In this example, we use the scatterplot function of Seaborn to create the scatter plot. \n",
    "# We pass the column names to be plotted to the x and y parameters of the scatterplot function, and use the data parameter to specify the DataFrame. \n",
    "# Finally, we use plt.xlabel() and plt.ylabel() to add labels to the plot created by Seaborn, and use plt.show() to display the plot."
   ]
  },
  {
   "attachments": {},
   "cell_type": "markdown",
   "metadata": {},
   "source": [
    "# 23 d. For any dataframe draw a pairplot using seaborn"
   ]
  },
  {
   "cell_type": "code",
   "execution_count": 39,
   "metadata": {},
   "outputs": [
    {
     "data": {
      "image/png": "[encoded data removed]",
      "text/plain": [
       "<Figure size 540x540 with 12 Axes>"
      ]
     },
     "metadata": {
      "needs_background": "light"
     },
     "output_type": "display_data"
    }
   ],
   "source": [
    "# create a sample DataFrame\n",
    "data = {'A': [5, 6, 7, 8, 9, 10],\n",
    "        'B': [4, 6, 8, 10, 12, 14],\n",
    "        'C': [1, 2, 3, 4, 5, 6]}\n",
    "df = pd.DataFrame(data)\n",
    "\n",
    "# draw a pair plot for all columns using Seaborn\n",
    "sns.pairplot(data=df)\n",
    "\n",
    "# show the plot\n",
    "plt.show()\n",
    "\n",
    "# This will output a pair plot for all columns of the DataFrame using Seaborn. \n",
    "# In this example, we use the pairplot function of Seaborn to create the pair plot. \n",
    "# We pass the DataFrame to the data parameter of the pairplot function. \n",
    "# Finally, we use plt.show() to display the plot created by Seaborn. \n",
    "# You can customize the appearance of the pair plot by passing additional parameters to the pairplot function, such as hue, diag_kind, markers, etc."
   ]
  },
  {
   "attachments": {},
   "cell_type": "markdown",
   "metadata": {},
   "source": [
    "# 23 e. For any dataframe draw a boxplot using seaborn"
   ]
  },
  {
   "cell_type": "code",
   "execution_count": 40,
   "metadata": {},
   "outputs": [
    {
     "data": {
      "image/png": "[encoded data removed]",
      "text/plain": [
       "<Figure size 432x288 with 1 Axes>"
      ]
     },
     "metadata": {
      "needs_background": "light"
     },
     "output_type": "display_data"
    }
   ],
   "source": [
    "# create a sample DataFrame\n",
    "data = {'A': [5, 6, 7, 8, 9, 10],\n",
    "        'B': [4, 6, 8, 10, 12, 14],\n",
    "        'C': [1, 2, 3, 4, 5, 6]}\n",
    "df = pd.DataFrame(data)\n",
    "\n",
    "# draw a boxplot using Seaborn\n",
    "sns.boxplot(data=df)\n",
    "\n",
    "# show the plot\n",
    "plt.show()\n",
    "\n",
    "# This will output a boxplot for all columns of the DataFrame using Seaborn. \n",
    "# In this example, we use the boxplot function of Seaborn to create the boxplot. \n",
    "# We pass the DataFrame to the data parameter of the boxplot function. \n",
    "# Finally, we use plt.show() to display the plot created by Seaborn. \n",
    "# You can customize the appearance of the boxplot by passing additional parameters to the boxplot function, such as hue, order, palette, etc."
   ]
  },
  {
   "attachments": {},
   "cell_type": "markdown",
   "metadata": {},
   "source": [
    "# 24. for any dataframe drop a particular column"
   ]
  },
  {
   "cell_type": "code",
   "execution_count": 41,
   "metadata": {},
   "outputs": [
    {
     "name": "stdout",
     "output_type": "stream",
     "text": [
      "   A   C\n",
      "0  1  11\n",
      "1  2  12\n",
      "2  3  13\n",
      "3  4  14\n",
      "4  5  15\n"
     ]
    }
   ],
   "source": [
    "# create a sample DataFrame\n",
    "data = {'A': [1, 2, 3, 4, 5],\n",
    "        'B': [6, 7, 8, 9, 10],\n",
    "        'C': [11, 12, 13, 14, 15]}\n",
    "df = pd.DataFrame(data)\n",
    "\n",
    "# drop column 'B' from the DataFrame\n",
    "df = df.drop('B', axis=1)\n",
    "\n",
    "# print the updated DataFrame\n",
    "print(df)\n",
    "\n",
    "# In this example, we use the drop function of Pandas to drop the column 'B' from the DataFrame. \n",
    "# The first argument to the drop function is the label of the column to be dropped. \n",
    "# The second argument axis=1 specifies that we want to drop a column, as opposed to a row. \n",
    "# Finally, we assign the result of the drop function back to the original DataFrame to update it."
   ]
  },
  {
   "attachments": {},
   "cell_type": "markdown",
   "metadata": {},
   "source": [
    "# 25. for any dataframe drop a group of columns"
   ]
  },
  {
   "cell_type": "code",
   "execution_count": 42,
   "metadata": {},
   "outputs": [
    {
     "name": "stdout",
     "output_type": "stream",
     "text": [
      "   name  gender\n",
      "0  John    Male\n",
      "1  Jane  Female\n",
      "2   Bob    Male\n"
     ]
    }
   ],
   "source": [
    "# create a sample dataframe\n",
    "data = {'name': ['John', 'Jane', 'Bob'],\n",
    "        'age': [30, 25, 40],\n",
    "        'gender': ['Male', 'Female', 'Male'],\n",
    "        'country': ['USA', 'Canada', 'Australia']}\n",
    "df = pd.DataFrame(data)\n",
    "\n",
    "# drop columns 'age' and 'country'\n",
    "df = df.drop(['age', 'country'], axis=1)\n",
    "print(df)\n",
    "\n",
    "# In the drop() method, the axis parameter is set to 1 to indicate that we are dropping columns."
   ]
  }
 ],
 "metadata": {
  "kernelspec": {
   "display_name": "Python 3",
   "language": "python",
   "name": "python3"
  },
  "language_info": {
   "codemirror_mode": {
    "name": "ipython",
    "version": 3
   },
   "file_extension": ".py",
   "mimetype": "text/x-python",
   "name": "python",
   "nbconvert_exporter": "python",
   "pygments_lexer": "ipython3",
   "version": "3.10.4"
  },
  "orig_nbformat": 4
 },
 "nbformat": 4,
 "nbformat_minor": 2
}
