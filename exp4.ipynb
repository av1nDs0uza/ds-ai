{
 "cells": [
  {
   "cell_type": "code",
   "execution_count": 1,
   "metadata": {},
   "outputs": [
    {
     "data": {
      "text/plain": [
       "array([[67, 88, 75, 42, 97],\n",
       "       [40, 49, 99, 39, 12],\n",
       "       [78, 78, 12, 75, 11],\n",
       "       [81, 57, 68, 63, 57],\n",
       "       [75, 74, 37, 21, 73]])"
      ]
     },
     "execution_count": 1,
     "metadata": {},
     "output_type": "execute_result"
    }
   ],
   "source": [
    "import numpy as np\n",
    "n1 = np.random.randint(1,100,size=(5,5))\n",
    "n1"
   ]
  },
  {
   "cell_type": "code",
   "execution_count": 2,
   "metadata": {},
   "outputs": [
    {
     "data": {
      "text/plain": [
       "array([[0.09596249, 0.92757713, 0.14668622, 0.63472225],\n",
       "       [0.62963817, 0.91343622, 0.35734858, 0.76449462],\n",
       "       [0.76330857, 0.43587245, 0.12981229, 0.10743097]])"
      ]
     },
     "execution_count": 2,
     "metadata": {},
     "output_type": "execute_result"
    }
   ],
   "source": [
    "n2=np.random.rand(3,4)\n",
    "n2"
   ]
  },
  {
   "cell_type": "code",
   "execution_count": 3,
   "metadata": {},
   "outputs": [
    {
     "name": "stdout",
     "output_type": "stream",
     "text": [
      "[[0.09596249 0.92757713 0.14668622 0.63472225]\n",
      " [0.62963817 0.91343622 0.35734858 0.76449462]\n",
      " [0.76330857 0.43587245 0.12981229 0.10743097]]\n"
     ]
    }
   ],
   "source": [
    "print(n2)"
   ]
  },
  {
   "attachments": {},
   "cell_type": "markdown",
   "metadata": {},
   "source": [
    "Pandas"
   ]
  },
  {
   "cell_type": "code",
   "execution_count": 4,
   "metadata": {},
   "outputs": [],
   "source": [
    "import pandas as pd\n",
    "df=pd.DataFrame(n1)"
   ]
  },
  {
   "cell_type": "code",
   "execution_count": 6,
   "metadata": {},
   "outputs": [],
   "source": [
    "import pandas as pd\n",
    "df2=pd.DataFrame(n2)"
   ]
  },
  {
   "cell_type": "code",
   "execution_count": 7,
   "metadata": {},
   "outputs": [
    {
     "data": {
      "text/html": [
       "<div>\n",
       "<style scoped>\n",
       "    .dataframe tbody tr th:only-of-type {\n",
       "        vertical-align: middle;\n",
       "    }\n",
       "\n",
       "    .dataframe tbody tr th {\n",
       "        vertical-align: top;\n",
       "    }\n",
       "\n",
       "    .dataframe thead th {\n",
       "        text-align: right;\n",
       "    }\n",
       "</style>\n",
       "<table border=\"1\" class=\"dataframe\">\n",
       "  <thead>\n",
       "    <tr style=\"text-align: right;\">\n",
       "      <th></th>\n",
       "      <th>0</th>\n",
       "      <th>1</th>\n",
       "      <th>2</th>\n",
       "      <th>3</th>\n",
       "      <th>4</th>\n",
       "    </tr>\n",
       "  </thead>\n",
       "  <tbody>\n",
       "    <tr>\n",
       "      <th>0</th>\n",
       "      <td>67</td>\n",
       "      <td>88</td>\n",
       "      <td>75</td>\n",
       "      <td>42</td>\n",
       "      <td>97</td>\n",
       "    </tr>\n",
       "    <tr>\n",
       "      <th>1</th>\n",
       "      <td>40</td>\n",
       "      <td>49</td>\n",
       "      <td>99</td>\n",
       "      <td>39</td>\n",
       "      <td>12</td>\n",
       "    </tr>\n",
       "    <tr>\n",
       "      <th>2</th>\n",
       "      <td>78</td>\n",
       "      <td>78</td>\n",
       "      <td>12</td>\n",
       "      <td>75</td>\n",
       "      <td>11</td>\n",
       "    </tr>\n",
       "    <tr>\n",
       "      <th>3</th>\n",
       "      <td>81</td>\n",
       "      <td>57</td>\n",
       "      <td>68</td>\n",
       "      <td>63</td>\n",
       "      <td>57</td>\n",
       "    </tr>\n",
       "    <tr>\n",
       "      <th>4</th>\n",
       "      <td>75</td>\n",
       "      <td>74</td>\n",
       "      <td>37</td>\n",
       "      <td>21</td>\n",
       "      <td>73</td>\n",
       "    </tr>\n",
       "  </tbody>\n",
       "</table>\n",
       "</div>"
      ],
      "text/plain": [
       "    0   1   2   3   4\n",
       "0  67  88  75  42  97\n",
       "1  40  49  99  39  12\n",
       "2  78  78  12  75  11\n",
       "3  81  57  68  63  57\n",
       "4  75  74  37  21  73"
      ]
     },
     "execution_count": 7,
     "metadata": {},
     "output_type": "execute_result"
    }
   ],
   "source": [
    "df"
   ]
  },
  {
   "cell_type": "code",
   "execution_count": 8,
   "metadata": {},
   "outputs": [
    {
     "name": "stdout",
     "output_type": "stream",
     "text": [
      "<class 'pandas.core.frame.DataFrame'>\n",
      "RangeIndex: 5 entries, 0 to 4\n",
      "Data columns (total 5 columns):\n",
      " #   Column  Non-Null Count  Dtype\n",
      "---  ------  --------------  -----\n",
      " 0   0       5 non-null      int32\n",
      " 1   1       5 non-null      int32\n",
      " 2   2       5 non-null      int32\n",
      " 3   3       5 non-null      int32\n",
      " 4   4       5 non-null      int32\n",
      "dtypes: int32(5)\n",
      "memory usage: 228.0 bytes\n"
     ]
    }
   ],
   "source": [
    "#df.describe()\n",
    "df.info()"
   ]
  },
  {
   "cell_type": "code",
   "execution_count": 9,
   "metadata": {},
   "outputs": [
    {
     "data": {
      "text/html": [
       "<div>\n",
       "<style scoped>\n",
       "    .dataframe tbody tr th:only-of-type {\n",
       "        vertical-align: middle;\n",
       "    }\n",
       "\n",
       "    .dataframe tbody tr th {\n",
       "        vertical-align: top;\n",
       "    }\n",
       "\n",
       "    .dataframe thead th {\n",
       "        text-align: right;\n",
       "    }\n",
       "</style>\n",
       "<table border=\"1\" class=\"dataframe\">\n",
       "  <thead>\n",
       "    <tr style=\"text-align: right;\">\n",
       "      <th></th>\n",
       "      <th>0</th>\n",
       "      <th>1</th>\n",
       "      <th>2</th>\n",
       "      <th>3</th>\n",
       "      <th>4</th>\n",
       "      <th>5</th>\n",
       "    </tr>\n",
       "  </thead>\n",
       "  <tbody>\n",
       "    <tr>\n",
       "      <th>0</th>\n",
       "      <td>0.458440</td>\n",
       "      <td>0.488642</td>\n",
       "      <td>0.033369</td>\n",
       "      <td>0.506152</td>\n",
       "      <td>0.140345</td>\n",
       "      <td>0.854750</td>\n",
       "    </tr>\n",
       "    <tr>\n",
       "      <th>1</th>\n",
       "      <td>0.320885</td>\n",
       "      <td>0.692227</td>\n",
       "      <td>0.989757</td>\n",
       "      <td>0.900686</td>\n",
       "      <td>0.759455</td>\n",
       "      <td>0.926627</td>\n",
       "    </tr>\n",
       "    <tr>\n",
       "      <th>2</th>\n",
       "      <td>0.927743</td>\n",
       "      <td>0.627543</td>\n",
       "      <td>0.175831</td>\n",
       "      <td>0.427815</td>\n",
       "      <td>0.196376</td>\n",
       "      <td>0.521809</td>\n",
       "    </tr>\n",
       "    <tr>\n",
       "      <th>3</th>\n",
       "      <td>0.336989</td>\n",
       "      <td>0.306883</td>\n",
       "      <td>0.737300</td>\n",
       "      <td>0.781137</td>\n",
       "      <td>0.602294</td>\n",
       "      <td>0.645718</td>\n",
       "    </tr>\n",
       "    <tr>\n",
       "      <th>4</th>\n",
       "      <td>0.627798</td>\n",
       "      <td>0.647956</td>\n",
       "      <td>0.432977</td>\n",
       "      <td>0.508654</td>\n",
       "      <td>0.849043</td>\n",
       "      <td>0.451152</td>\n",
       "    </tr>\n",
       "  </tbody>\n",
       "</table>\n",
       "</div>"
      ],
      "text/plain": [
       "          0         1         2         3         4         5\n",
       "0  0.458440  0.488642  0.033369  0.506152  0.140345  0.854750\n",
       "1  0.320885  0.692227  0.989757  0.900686  0.759455  0.926627\n",
       "2  0.927743  0.627543  0.175831  0.427815  0.196376  0.521809\n",
       "3  0.336989  0.306883  0.737300  0.781137  0.602294  0.645718\n",
       "4  0.627798  0.647956  0.432977  0.508654  0.849043  0.451152"
      ]
     },
     "execution_count": 9,
     "metadata": {},
     "output_type": "execute_result"
    }
   ],
   "source": [
    "n2=np.random.rand(5,6)\n",
    "df3 =pd.DataFrame(n2)\n",
    "df3"
   ]
  },
  {
   "cell_type": "code",
   "execution_count": 10,
   "metadata": {},
   "outputs": [
    {
     "name": "stdout",
     "output_type": "stream",
     "text": [
      "<class 'pandas.core.frame.DataFrame'>\n",
      "RangeIndex: 5 entries, 0 to 4\n",
      "Data columns (total 6 columns):\n",
      " #   Column  Non-Null Count  Dtype  \n",
      "---  ------  --------------  -----  \n",
      " 0   0       5 non-null      float64\n",
      " 1   1       5 non-null      float64\n",
      " 2   2       5 non-null      float64\n",
      " 3   3       5 non-null      float64\n",
      " 4   4       5 non-null      float64\n",
      " 5   5       5 non-null      float64\n",
      "dtypes: float64(6)\n",
      "memory usage: 368.0 bytes\n"
     ]
    }
   ],
   "source": [
    "df3.info()"
   ]
  },
  {
   "cell_type": "code",
   "execution_count": 11,
   "metadata": {},
   "outputs": [
    {
     "data": {
      "text/html": [
       "<div>\n",
       "<style scoped>\n",
       "    .dataframe tbody tr th:only-of-type {\n",
       "        vertical-align: middle;\n",
       "    }\n",
       "\n",
       "    .dataframe tbody tr th {\n",
       "        vertical-align: top;\n",
       "    }\n",
       "\n",
       "    .dataframe thead th {\n",
       "        text-align: right;\n",
       "    }\n",
       "</style>\n",
       "<table border=\"1\" class=\"dataframe\">\n",
       "  <thead>\n",
       "    <tr style=\"text-align: right;\">\n",
       "      <th></th>\n",
       "      <th>0</th>\n",
       "      <th>1</th>\n",
       "      <th>2</th>\n",
       "      <th>3</th>\n",
       "      <th>4</th>\n",
       "      <th>5</th>\n",
       "    </tr>\n",
       "  </thead>\n",
       "  <tbody>\n",
       "    <tr>\n",
       "      <th>count</th>\n",
       "      <td>5.000000</td>\n",
       "      <td>5.000000</td>\n",
       "      <td>5.000000</td>\n",
       "      <td>5.000000</td>\n",
       "      <td>5.000000</td>\n",
       "      <td>5.000000</td>\n",
       "    </tr>\n",
       "    <tr>\n",
       "      <th>mean</th>\n",
       "      <td>0.534371</td>\n",
       "      <td>0.552650</td>\n",
       "      <td>0.473847</td>\n",
       "      <td>0.624889</td>\n",
       "      <td>0.509503</td>\n",
       "      <td>0.680011</td>\n",
       "    </tr>\n",
       "    <tr>\n",
       "      <th>std</th>\n",
       "      <td>0.251879</td>\n",
       "      <td>0.157061</td>\n",
       "      <td>0.393724</td>\n",
       "      <td>0.204282</td>\n",
       "      <td>0.324307</td>\n",
       "      <td>0.206115</td>\n",
       "    </tr>\n",
       "    <tr>\n",
       "      <th>min</th>\n",
       "      <td>0.320885</td>\n",
       "      <td>0.306883</td>\n",
       "      <td>0.033369</td>\n",
       "      <td>0.427815</td>\n",
       "      <td>0.140345</td>\n",
       "      <td>0.451152</td>\n",
       "    </tr>\n",
       "    <tr>\n",
       "      <th>25%</th>\n",
       "      <td>0.336989</td>\n",
       "      <td>0.488642</td>\n",
       "      <td>0.175831</td>\n",
       "      <td>0.506152</td>\n",
       "      <td>0.196376</td>\n",
       "      <td>0.521809</td>\n",
       "    </tr>\n",
       "    <tr>\n",
       "      <th>50%</th>\n",
       "      <td>0.458440</td>\n",
       "      <td>0.627543</td>\n",
       "      <td>0.432977</td>\n",
       "      <td>0.508654</td>\n",
       "      <td>0.602294</td>\n",
       "      <td>0.645718</td>\n",
       "    </tr>\n",
       "    <tr>\n",
       "      <th>75%</th>\n",
       "      <td>0.627798</td>\n",
       "      <td>0.647956</td>\n",
       "      <td>0.737300</td>\n",
       "      <td>0.781137</td>\n",
       "      <td>0.759455</td>\n",
       "      <td>0.854750</td>\n",
       "    </tr>\n",
       "    <tr>\n",
       "      <th>max</th>\n",
       "      <td>0.927743</td>\n",
       "      <td>0.692227</td>\n",
       "      <td>0.989757</td>\n",
       "      <td>0.900686</td>\n",
       "      <td>0.849043</td>\n",
       "      <td>0.926627</td>\n",
       "    </tr>\n",
       "  </tbody>\n",
       "</table>\n",
       "</div>"
      ],
      "text/plain": [
       "              0         1         2         3         4         5\n",
       "count  5.000000  5.000000  5.000000  5.000000  5.000000  5.000000\n",
       "mean   0.534371  0.552650  0.473847  0.624889  0.509503  0.680011\n",
       "std    0.251879  0.157061  0.393724  0.204282  0.324307  0.206115\n",
       "min    0.320885  0.306883  0.033369  0.427815  0.140345  0.451152\n",
       "25%    0.336989  0.488642  0.175831  0.506152  0.196376  0.521809\n",
       "50%    0.458440  0.627543  0.432977  0.508654  0.602294  0.645718\n",
       "75%    0.627798  0.647956  0.737300  0.781137  0.759455  0.854750\n",
       "max    0.927743  0.692227  0.989757  0.900686  0.849043  0.926627"
      ]
     },
     "execution_count": 11,
     "metadata": {},
     "output_type": "execute_result"
    }
   ],
   "source": [
    "df3.describe()"
   ]
  },
  {
   "cell_type": "code",
   "execution_count": 13,
   "metadata": {},
   "outputs": [
    {
     "data": {
      "text/plain": [
       "(5, 6)"
      ]
     },
     "execution_count": 13,
     "metadata": {},
     "output_type": "execute_result"
    }
   ],
   "source": [
    "df3.shape"
   ]
  },
  {
   "cell_type": "code",
   "execution_count": 14,
   "metadata": {},
   "outputs": [
    {
     "data": {
      "text/plain": [
       "30"
      ]
     },
     "execution_count": 14,
     "metadata": {},
     "output_type": "execute_result"
    }
   ],
   "source": [
    "df3.size"
   ]
  },
  {
   "cell_type": "code",
   "execution_count": 19,
   "metadata": {},
   "outputs": [
    {
     "data": {
      "text/html": [
       "<div>\n",
       "<style scoped>\n",
       "    .dataframe tbody tr th:only-of-type {\n",
       "        vertical-align: middle;\n",
       "    }\n",
       "\n",
       "    .dataframe tbody tr th {\n",
       "        vertical-align: top;\n",
       "    }\n",
       "\n",
       "    .dataframe thead th {\n",
       "        text-align: right;\n",
       "    }\n",
       "</style>\n",
       "<table border=\"1\" class=\"dataframe\">\n",
       "  <thead>\n",
       "    <tr style=\"text-align: right;\">\n",
       "      <th></th>\n",
       "      <th>0</th>\n",
       "      <th>1</th>\n",
       "      <th>2</th>\n",
       "      <th>3</th>\n",
       "      <th>4</th>\n",
       "      <th>5</th>\n",
       "    </tr>\n",
       "  </thead>\n",
       "  <tbody>\n",
       "    <tr>\n",
       "      <th>0</th>\n",
       "      <td>0.458440</td>\n",
       "      <td>0.488642</td>\n",
       "      <td>0.033369</td>\n",
       "      <td>0.506152</td>\n",
       "      <td>0.140345</td>\n",
       "      <td>0.854750</td>\n",
       "    </tr>\n",
       "    <tr>\n",
       "      <th>1</th>\n",
       "      <td>0.320885</td>\n",
       "      <td>0.692227</td>\n",
       "      <td>0.989757</td>\n",
       "      <td>0.900686</td>\n",
       "      <td>0.759455</td>\n",
       "      <td>0.926627</td>\n",
       "    </tr>\n",
       "    <tr>\n",
       "      <th>2</th>\n",
       "      <td>0.927743</td>\n",
       "      <td>0.627543</td>\n",
       "      <td>0.175831</td>\n",
       "      <td>0.427815</td>\n",
       "      <td>0.196376</td>\n",
       "      <td>0.521809</td>\n",
       "    </tr>\n",
       "    <tr>\n",
       "      <th>3</th>\n",
       "      <td>0.336989</td>\n",
       "      <td>0.306883</td>\n",
       "      <td>0.737300</td>\n",
       "      <td>0.781137</td>\n",
       "      <td>0.602294</td>\n",
       "      <td>0.645718</td>\n",
       "    </tr>\n",
       "    <tr>\n",
       "      <th>4</th>\n",
       "      <td>0.627798</td>\n",
       "      <td>0.647956</td>\n",
       "      <td>0.432977</td>\n",
       "      <td>0.508654</td>\n",
       "      <td>0.849043</td>\n",
       "      <td>0.451152</td>\n",
       "    </tr>\n",
       "  </tbody>\n",
       "</table>\n",
       "</div>"
      ],
      "text/plain": [
       "          0         1         2         3         4         5\n",
       "0  0.458440  0.488642  0.033369  0.506152  0.140345  0.854750\n",
       "1  0.320885  0.692227  0.989757  0.900686  0.759455  0.926627\n",
       "2  0.927743  0.627543  0.175831  0.427815  0.196376  0.521809\n",
       "3  0.336989  0.306883  0.737300  0.781137  0.602294  0.645718\n",
       "4  0.627798  0.647956  0.432977  0.508654  0.849043  0.451152"
      ]
     },
     "execution_count": 19,
     "metadata": {},
     "output_type": "execute_result"
    }
   ],
   "source": [
    "df3.head(7)"
   ]
  },
  {
   "cell_type": "code",
   "execution_count": 20,
   "metadata": {},
   "outputs": [
    {
     "data": {
      "text/html": [
       "<div>\n",
       "<style scoped>\n",
       "    .dataframe tbody tr th:only-of-type {\n",
       "        vertical-align: middle;\n",
       "    }\n",
       "\n",
       "    .dataframe tbody tr th {\n",
       "        vertical-align: top;\n",
       "    }\n",
       "\n",
       "    .dataframe thead th {\n",
       "        text-align: right;\n",
       "    }\n",
       "</style>\n",
       "<table border=\"1\" class=\"dataframe\">\n",
       "  <thead>\n",
       "    <tr style=\"text-align: right;\">\n",
       "      <th></th>\n",
       "      <th>0</th>\n",
       "      <th>1</th>\n",
       "      <th>2</th>\n",
       "      <th>3</th>\n",
       "      <th>4</th>\n",
       "      <th>5</th>\n",
       "    </tr>\n",
       "  </thead>\n",
       "  <tbody>\n",
       "    <tr>\n",
       "      <th>0</th>\n",
       "      <td>0.458440</td>\n",
       "      <td>0.488642</td>\n",
       "      <td>0.033369</td>\n",
       "      <td>0.506152</td>\n",
       "      <td>0.140345</td>\n",
       "      <td>0.854750</td>\n",
       "    </tr>\n",
       "    <tr>\n",
       "      <th>1</th>\n",
       "      <td>0.320885</td>\n",
       "      <td>0.692227</td>\n",
       "      <td>0.989757</td>\n",
       "      <td>0.900686</td>\n",
       "      <td>0.759455</td>\n",
       "      <td>0.926627</td>\n",
       "    </tr>\n",
       "    <tr>\n",
       "      <th>2</th>\n",
       "      <td>0.927743</td>\n",
       "      <td>0.627543</td>\n",
       "      <td>0.175831</td>\n",
       "      <td>0.427815</td>\n",
       "      <td>0.196376</td>\n",
       "      <td>0.521809</td>\n",
       "    </tr>\n",
       "    <tr>\n",
       "      <th>3</th>\n",
       "      <td>0.336989</td>\n",
       "      <td>0.306883</td>\n",
       "      <td>0.737300</td>\n",
       "      <td>0.781137</td>\n",
       "      <td>0.602294</td>\n",
       "      <td>0.645718</td>\n",
       "    </tr>\n",
       "    <tr>\n",
       "      <th>4</th>\n",
       "      <td>0.627798</td>\n",
       "      <td>0.647956</td>\n",
       "      <td>0.432977</td>\n",
       "      <td>0.508654</td>\n",
       "      <td>0.849043</td>\n",
       "      <td>0.451152</td>\n",
       "    </tr>\n",
       "  </tbody>\n",
       "</table>\n",
       "</div>"
      ],
      "text/plain": [
       "          0         1         2         3         4         5\n",
       "0  0.458440  0.488642  0.033369  0.506152  0.140345  0.854750\n",
       "1  0.320885  0.692227  0.989757  0.900686  0.759455  0.926627\n",
       "2  0.927743  0.627543  0.175831  0.427815  0.196376  0.521809\n",
       "3  0.336989  0.306883  0.737300  0.781137  0.602294  0.645718\n",
       "4  0.627798  0.647956  0.432977  0.508654  0.849043  0.451152"
      ]
     },
     "execution_count": 20,
     "metadata": {},
     "output_type": "execute_result"
    }
   ],
   "source": [
    "df3.tail(5)"
   ]
  },
  {
   "cell_type": "code",
   "execution_count": null,
   "metadata": {},
   "outputs": [],
   "source": [
    " "
   ]
  }
 ],
 "metadata": {
  "kernelspec": {
   "display_name": "Python 3",
   "language": "python",
   "name": "python3"
  },
  "language_info": {
   "codemirror_mode": {
    "name": "ipython",
    "version": 3
   },
   "file_extension": ".py",
   "mimetype": "text/x-python",
   "name": "python",
   "nbconvert_exporter": "python",
   "pygments_lexer": "ipython3",
   "version": "3.10.4"
  },
  "orig_nbformat": 4
 },
 "nbformat": 4,
 "nbformat_minor": 2
}
